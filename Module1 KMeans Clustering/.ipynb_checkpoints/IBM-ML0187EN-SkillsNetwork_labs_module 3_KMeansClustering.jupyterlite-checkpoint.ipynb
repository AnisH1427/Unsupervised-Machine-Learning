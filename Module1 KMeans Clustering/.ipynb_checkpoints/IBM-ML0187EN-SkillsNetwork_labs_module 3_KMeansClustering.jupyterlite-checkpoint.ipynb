{
 "cells": [
  {
   "cell_type": "markdown",
   "metadata": {
    "button": false,
    "new_sheet": false,
    "run_control": {
     "read_only": false
    }
   },
   "source": [
    "<p style=\"text-align:center\">\n",
    "    <a href=\"https://skills.network/?utm_medium=Exinfluencer&utm_source=Exinfluencer&utm_content=000026UJ&utm_term=10006555&utm_id=NA-SkillsNetwork-Channel-SkillsNetworkCoursesIBMML0187ENSkillsNetwork31430127-2022-01-01\">\n",
    "    <img src=\"https://cf-courses-data.s3.us.cloud-object-storage.appdomain.cloud/assets/logos/SN_web_lightmode.png\" width=\"200\" alt=\"Skills Network Logo\"  />\n",
    "    </a>\n",
    "</p>\n",
    "\n",
    "# **Practice Lab: K Means Clustering Lab**\n",
    "\n",
    "Estimated time needed: **45** minutes\n"
   ]
  },
  {
   "cell_type": "markdown",
   "metadata": {},
   "source": [
    "How do brands always know which new products to recommend me? Can they read my mind? Well, sort of. By (legally) gathering information about you and your purchasing habits, corporations are able to group you with other customers that have similar characteristics. K Means clustering is one such algorithm that can categorize similar people! Then, companies can determine this population's potential preferences and personalize your experience with the brand, which ranges from product recommendations to email marketing content. \n",
    "\n",
    "In this notebook, you will learn the fundamentals of how to accomplish grouping with K Means and use it for segmenting mall customers and images.\n",
    "\n",
    "<img src=\"https://cf-courses-data.s3.us.cloud-object-storage.appdomain.cloud/IBM-ML0187EN-SkillsNetwork/labs/module%203/images/online-shopping.jpg\" style=\"width: 60%\">\n"
   ]
  },
  {
   "cell_type": "markdown",
   "metadata": {},
   "source": [
    "## **Table of Contents**\n",
    "\n",
    "<ol>\n",
    "    <li><a href=\"https://#Objectives\">Objectives</a></li>\n",
    "    <li>\n",
    "        <a href=\"https://#Setup\">Setup</a>\n",
    "        <ol>\n",
    "            <li><a href=\"https://#Installing-Required-Libraries\">Installing Required Libraries</a></li>\n",
    "            <li><a href=\"https://#Importing-Required-Libraries\">Importing Required Libraries</a></li>\n",
    "        </ol>\n",
    "    </li>\n",
    "    <li>\n",
    "        <a href=\"https://#Introduction\">Introduction</a>\n",
    "        <ol>\n",
    "            <li><a href=\"https://#How-does-K-Means-Clustering-work?\">How does K Means Clustering work?</a></li>\n",
    "        </ol>\n",
    "    </li>\n",
    "    <li><a href=\"https://#Example-1:-Visual-intuition\">Example 1: Visual Intuition</a></li>\n",
    "    <li>\n",
    "        <a href=\"https://#Example-2:-Segmenting-Customer-Data\">Example 2: Segmenting Customer Data</a>\n",
    "        <ol>\n",
    "            <li><a href=\"https://#Problem-Statement\">Problem Statement</a></li>\n",
    "            <li><a href=\"https://#About-the-dataset\">About the Dataset</a></li>\n",
    "            <li><a href=\"https://https://#Loading-the-dataset\">Loading the Dataset</a></li>\n",
    "            <li><a href=\"https://#Getting-familiar-with-the-data\">Getting familiar with the data</a></li>\n",
    "            <li><a href=\"https://#Clusting-the-data-using-K-Means\">Clustering the data using K Means</a></li>\n",
    "        </ol>\n",
    "    </li>\n",
    "    <li>\n",
    "        <a href=\"https://#Example-3:-Image-Segmentation\">Example 3: Image Segmentation</a>\n",
    "        <ol>\n",
    "            <li><a href=\"#Loading-the-data\">Loading the Data</a></li>\n",
    "            <li><a href=\"https://#Segmenting-the-image-using-2-clusters\">Segmenting the image using 2 clusters</a></li>\n",
    "            <li><a href=\"https://#Converting-to-black-and-white\">Converting to black and white</a></li>\n",
    "        </ol>\n",
    "    </li>    \n",
    "</ol>\n",
    "\n",
    "<a href=\"https://#Exercises\">Exercises</a>\n",
    "\n",
    "<ol>\n",
    "    <li><a href=\"https://#Exercise-1---Fitting-KMeans-With-k=2\">Exercise 1 - Fitting K Means with k=2</a></li>\n",
    "    <li><a href=\"https://#Exercise-2---Viewing-Segmented-Image\">Exercise 2 - Viewing Segmented Image</a></li>\n",
    "    <li><a href=\"https://#Exercise-3---Fitting-KMeans-With-k=4-and-Viewing-Segmented-Image\">Exercise 3 - Fitting K Means with k=4 and Viewing Segmented Image</a></li>\n",
    "</ol>\n"
   ]
  },
  {
   "cell_type": "markdown",
   "metadata": {},
   "source": [
    "## Objectives\n",
    "\n",
    "After completing this lab you will be able to:\n",
    "\n",
    "*   Explain the theory behind K Means Clustering\n",
    "*   Implement K Means Clustering to perform exploratory data analysis\n",
    "*   Perform Image segmentation using K Means\n"
   ]
  },
  {
   "cell_type": "markdown",
   "metadata": {},
   "source": [
    "***\n"
   ]
  },
  {
   "cell_type": "markdown",
   "metadata": {},
   "source": [
    "## Setup\n",
    "\n",
    "For this lab, we will be using the following libraries:\n",
    "\n",
    "*   [`pandas`](https://pandas.pydata.org/?utm_medium=Exinfluencer&utm_source=Exinfluencer&utm_content=000026UJ&utm_term=10006555&utm_id=NA-SkillsNetwork-Channel-SkillsNetworkCoursesIBMML0187ENSkillsNetwork31430127-2021-01-01) for managing the data.\n",
    "*   [`numpy`](https://numpy.org/?utm_medium=Exinfluencer&utm_source=Exinfluencer&utm_content=000026UJ&utm_term=10006555&utm_id=NA-SkillsNetwork-Channel-SkillsNetworkCoursesIBMML0187ENSkillsNetwork31430127-2021-01-01) for mathematical operations.\n",
    "*   [`sklearn`](https://scikit-learn.org/stable/?utm_medium=Exinfluencer&utm_source=Exinfluencer&utm_content=000026UJ&utm_term=10006555&utm_id=NA-SkillsNetwork-Channel-SkillsNetworkCoursesIBMML0187ENSkillsNetwork31430127-2021-01-01) for machine learning and machine-learning-pipeline related functions.\n",
    "*   [`matplotlib`](https://matplotlib.org/?utm_medium=Exinfluencer&utm_source=Exinfluencer&utm_content=000026UJ&utm_term=10006555&utm_id=NA-SkillsNetwork-Channel-SkillsNetworkCoursesIBMML0187ENSkillsNetwork31430127-2021-01-01) for additional plotting tools.\n"
   ]
  },
  {
   "cell_type": "markdown",
   "metadata": {},
   "source": [
    "### Installing Required Libraries\n",
    "\n",
    "The following required libraries are pre-installed in the Skills Network Labs environment. However, if you run this notebook commands in a different Jupyter environment (e.g. Watson Studio or Anaconda), you will need to install these libraries by removing the `#` sign before `!mamba` in the corresponding code cell below.\n"
   ]
  },
  {
   "cell_type": "code",
   "execution_count": 1,
   "metadata": {},
   "outputs": [
    {
     "ename": "ModuleNotFoundError",
     "evalue": "No module named 'piplite'",
     "output_type": "error",
     "traceback": [
      "\u001b[1;31m---------------------------------------------------------------------------\u001b[0m",
      "\u001b[1;31mModuleNotFoundError\u001b[0m                       Traceback (most recent call last)",
      "Input \u001b[1;32mIn [1]\u001b[0m, in \u001b[0;36m<cell line: 2>\u001b[1;34m()\u001b[0m\n\u001b[0;32m      1\u001b[0m \u001b[38;5;66;03m# All Libraries required for this lab are listed below. The libraries pre-installed on Skills Network Labs are commented.\u001b[39;00m\n\u001b[1;32m----> 2\u001b[0m \u001b[38;5;28;01mimport\u001b[39;00m \u001b[38;5;21;01mpiplite\u001b[39;00m\n\u001b[0;32m      3\u001b[0m \u001b[38;5;28;01mawait\u001b[39;00m piplite\u001b[38;5;241m.\u001b[39minstall([\u001b[38;5;124m'\u001b[39m\u001b[38;5;124mskillsnetwork\u001b[39m\u001b[38;5;124m'\u001b[39m])\n\u001b[0;32m      4\u001b[0m \u001b[38;5;28;01mawait\u001b[39;00m piplite\u001b[38;5;241m.\u001b[39minstall([\u001b[38;5;124m'\u001b[39m\u001b[38;5;124mnumpy\u001b[39m\u001b[38;5;124m'\u001b[39m, \u001b[38;5;124m'\u001b[39m\u001b[38;5;124mpandas\u001b[39m\u001b[38;5;124m'\u001b[39m, \u001b[38;5;124m'\u001b[39m\u001b[38;5;124mscikit-learn\u001b[39m\u001b[38;5;124m'\u001b[39m, \u001b[38;5;124m'\u001b[39m\u001b[38;5;124mmatplotlib\u001b[39m\u001b[38;5;124m'\u001b[39m])\n",
      "\u001b[1;31mModuleNotFoundError\u001b[0m: No module named 'piplite'"
     ]
    }
   ],
   "source": [
    "# All Libraries required for this lab are listed below. The libraries pre-installed on Skills Network Labs are commented.\n",
    "import piplite\n",
    "await piplite.install(['skillsnetwork'])\n",
    "await piplite.install(['numpy', 'pandas', 'scikit-learn', 'matplotlib'])"
   ]
  },
  {
   "cell_type": "markdown",
   "metadata": {},
   "source": [
    "### Importing Required Libraries\n"
   ]
  },
  {
   "cell_type": "code",
   "execution_count": 2,
   "metadata": {},
   "outputs": [],
   "source": [
    "def warn(*args, **kwargs):\n",
    "    pass\n",
    "import warnings\n",
    "warnings.warn = warn\n",
    "warnings.filterwarnings('ignore')\n",
    "\n",
    "import skillsnetwork\n",
    "import numpy as np\n",
    "import pandas as pd\n",
    "from sklearn.cluster import KMeans\n",
    "from matplotlib import pyplot as plt\n",
    "%matplotlib inline"
   ]
  },
  {
   "cell_type": "markdown",
   "metadata": {},
   "source": [
    "## Introduction\n"
   ]
  },
  {
   "cell_type": "markdown",
   "metadata": {},
   "source": [
    "K Means Clustering is an unsupervised machine learning algorithm that organizes data into distinct groups based on certain similarities. The principle underlying the algorithm is simple to understand and is a great introduction to the potential of unsupervised learning algorithms for exploratory data analysis. In this lab, we will brush up on the basic theory underlying the algorithm and then go ahead and apply it ourselves to a real problem.\n"
   ]
  },
  {
   "cell_type": "markdown",
   "metadata": {},
   "source": [
    "### About K Means\n",
    "\n",
    "| Pros                                                  | Cons                                            |\n",
    "| ----------------------------------------------------- | ----------------------------------------------- |\n",
    "| Easy to implement                                     | Must manually chose K                           |\n",
    "| Always converges to local minimum                     | Not guaranteed to find global minimum           |\n",
    "| Scales well to large datasets                         | May not perform well on data of varying density |\n",
    "| Generalizes to clusters of different shapes and sizes | Clusters are biased by outliers                 |\n"
   ]
  },
  {
   "cell_type": "markdown",
   "metadata": {},
   "source": [
    "### How does K Means Clustering work?\n"
   ]
  },
  {
   "cell_type": "markdown",
   "metadata": {},
   "source": [
    "The KMeans algorithm is quite simple and can be broken down into the following steps:\n",
    "\n",
    "<ol>\n",
    "    <li>We specify the hyperparameter <code>k</code>, which refers to the number of clusters we want our data to be clustered into.</li>\n",
    "    <li>Then <code>k</code> centroids, or cluster-means, are initialized at random.</li>\n",
    "    <li>Finally, the optimal centroid locations are found. This is done by the following algorithmic loop:</li>\n",
    "    <ol>\n",
    "        <li><b>Assignment step:</b> Assign each data point to the nearest centroid (calculated as the squared distance from the data point to centroid).</li>\n",
    "        <li><b>Update step:</b> Recompute each centroid as the mean of the data points assigned to that cluster in the previous step.</li>\n",
    "    </ol>\n",
    "    <li>We repeat the above step until the centroid locations remain unchanged. This tells us the algorithm has converged on a local optima and gives us the final cluster assignments for that run.</li>\n",
    "</ol>\n"
   ]
  },
  {
   "cell_type": "markdown",
   "metadata": {},
   "source": [
    "## Example 1: Visual intuition\n",
    "\n",
    "Take a look at the following animation for some physical intuition of what's going on during each iteration.\n",
    "\n",
    "It shows several iterations of K Means Clustering (steps 3 & 4 in previous section) applied to a sample dataset with <code>k = 2</code> clusters.\n",
    "\n",
    "![img](https://cf-courses-data.s3.us.cloud-object-storage.appdomain.cloud/IBM-ML0187EN-SkillsNetwork/labs/module%203/images/KMeansClustering_example.gif)\n",
    "\n",
    "In each iteration, you can see the previous locations of the centroids (faded) and the their current location after they were moved to the mean of the data points assigned to that cluster. The data points are colored by the cluster they are assigned to after that iteration.\n",
    "\n",
    "Finally, on iteration 6; we see the centroids of the clusters remain unchanged - this means the KMeans algorithm has converged and finished.\n"
   ]
  },
  {
   "cell_type": "markdown",
   "metadata": {},
   "source": [
    "## Example 2: Segmenting Customer Data\n",
    "\n",
    "While the theory and implementation of these algorithms are fascinating in their own right, as data scientists we're driven by the insights we can uncover and the stories we can tell with data.\n",
    "\n",
    "Now more than ever, companies are making data driven business decisions, in part thanks to the massive increase of data available, as well as the availability of computational power to process and make sense of the data.\n",
    "\n",
    "Customer segmentation is a process where customers are grouped together based on some common characteristics. For example, customers can be divided based on age, gender, income, marital status, and others. Segmenting customers in this way can have several applications for a business. For instance, common characteristics of the most profitable customers can be identified and a tailored marketing strategy can be implemented to target them.\n",
    "\n",
    "Let's have a go at customer segmentation using the K Means Clustering algorithm.\n"
   ]
  },
  {
   "cell_type": "markdown",
   "metadata": {},
   "source": [
    "### Problem Statement\n",
    "\n",
    "Suppose you are a data scientist at MegaMind Sporting Goods Ltd.\n",
    "\n",
    "You've been tasked with segmenting customers into groups depending on their purchasing habits.\n",
    "\n",
    "Once you have this information, your colleague John will be able to generate clothing recommendations tailored for each customer group.\n"
   ]
  },
  {
   "cell_type": "markdown",
   "metadata": {},
   "source": [
    "### About the dataset\n",
    "\n",
    "We will explore a simple example of customer segmentation using the [Mall Customers](https://github.com/SteffiPeTaffy/machineLearningAZ/blob/master/Machine%20Learning%20A-Z%20Template%20Folder/Part%204%20-%20Clustering/Section%2024%20-%20K-Means%20Clustering/Mall_Customers.csv) dataset. This is an artificial dataset that contains data on customers of a shopping mall. In particular, the following features are given about each customer.\n",
    "\n",
    "*   **CustomerID** - A unique identifying number for each the customer\n",
    "*   **Gender**\n",
    "*   **Age**\n",
    "*   **Annual Income** - The annual income of the customer given in thousands of dollars\n",
    "*   **Spending Score** - A value given to the customer based on their spending habits, such as total spending and frequency. A higher value indicates a higher value customer for the mall\n"
   ]
  },
  {
   "cell_type": "markdown",
   "metadata": {},
   "source": [
    "### Loading the dataset\n"
   ]
  },
  {
   "cell_type": "code",
   "execution_count": 3,
   "metadata": {},
   "outputs": [
    {
     "ename": "<class 'ImportError'>",
     "evalue": "cannot import name 'JsException' from 'pyodide' (/lib/python311.zip/pyodide/__init__.py)",
     "output_type": "error",
     "traceback": [
      "\u001b[0;31m---------------------------------------------------------------------------\u001b[0m",
      "\u001b[0;31mImportError\u001b[0m                               Traceback (most recent call last)",
      "Cell \u001b[0;32mIn[3], line 2\u001b[0m\n\u001b[1;32m      1\u001b[0m \u001b[38;5;66;03m# Download the dataset and read it into a Pandas dataframe\u001b[39;00m\n\u001b[0;32m----> 2\u001b[0m \u001b[38;5;28;01mawait\u001b[39;00m skillsnetwork\u001b[38;5;241m.\u001b[39mdownload(\u001b[38;5;124m'\u001b[39m\u001b[38;5;124mhttps://cf-courses-data.s3.us.cloud-object-storage.appdomain.cloud/IBM-ML0187EN-SkillsNetwork/labs/module\u001b[39m\u001b[38;5;124m%\u001b[39m\u001b[38;5;124m203/data/CustomerData.csv\u001b[39m\u001b[38;5;124m'\u001b[39m)\n\u001b[1;32m      3\u001b[0m df \u001b[38;5;241m=\u001b[39m pd\u001b[38;5;241m.\u001b[39mread_csv(\u001b[38;5;124m'\u001b[39m\u001b[38;5;124mCustomerData.csv\u001b[39m\u001b[38;5;124m'\u001b[39m, index_col\u001b[38;5;241m=\u001b[39m\u001b[38;5;241m0\u001b[39m)\n",
      "File \u001b[0;32m/lib/python3.11/site-packages/skillsnetwork/core.py:187\u001b[0m, in \u001b[0;36mdownload\u001b[0;34m(url, path, verbose, chunk_size)\u001b[0m\n\u001b[1;32m    185\u001b[0m         path \u001b[38;5;241m/\u001b[39m\u001b[38;5;241m=\u001b[39m filename\n\u001b[1;32m    186\u001b[0m \u001b[38;5;28;01mwith\u001b[39;00m \u001b[38;5;28mopen\u001b[39m(path, \u001b[38;5;124m\"\u001b[39m\u001b[38;5;124mwb\u001b[39m\u001b[38;5;124m\"\u001b[39m) \u001b[38;5;28;01mas\u001b[39;00m f:  \u001b[38;5;66;03m# Will raise FileNotFoundError if invalid path\u001b[39;00m\n\u001b[0;32m--> 187\u001b[0m     \u001b[38;5;28;01masync\u001b[39;00m \u001b[38;5;28;01mfor\u001b[39;00m chunk \u001b[38;5;129;01min\u001b[39;00m _get_chunks(url, chunk_size):\n\u001b[1;32m    188\u001b[0m         f\u001b[38;5;241m.\u001b[39mwrite(chunk)\n\u001b[1;32m    189\u001b[0m \u001b[38;5;28;01mif\u001b[39;00m verbose:\n",
      "File \u001b[0;32m/lib/python3.11/site-packages/skillsnetwork/core.py:72\u001b[0m, in \u001b[0;36m_get_chunks\u001b[0;34m(url, chunk_size)\u001b[0m\n\u001b[1;32m     70\u001b[0m \u001b[38;5;28;01mif\u001b[39;00m _is_jupyterlite():\n\u001b[1;32m     71\u001b[0m     \u001b[38;5;28;01mfrom\u001b[39;00m \u001b[38;5;21;01mjs\u001b[39;00m \u001b[38;5;28;01mimport\u001b[39;00m fetch  \u001b[38;5;66;03m# pyright: ignore\u001b[39;00m\n\u001b[0;32m---> 72\u001b[0m     \u001b[38;5;28;01mfrom\u001b[39;00m \u001b[38;5;21;01mpyodide\u001b[39;00m \u001b[38;5;28;01mimport\u001b[39;00m JsException  \u001b[38;5;66;03m# pyright: ignore\u001b[39;00m\n\u001b[1;32m     74\u001b[0m     \u001b[38;5;28;01mtry\u001b[39;00m:\n\u001b[1;32m     75\u001b[0m         response \u001b[38;5;241m=\u001b[39m \u001b[38;5;28;01mawait\u001b[39;00m fetch(url)\n",
      "\u001b[0;31mImportError\u001b[0m: cannot import name 'JsException' from 'pyodide' (/lib/python311.zip/pyodide/__init__.py)"
     ]
    }
   ],
   "source": [
    "# Download the dataset and read it into a Pandas dataframe\n",
    "await skillsnetwork.download('https://cf-courses-data.s3.us.cloud-object-storage.appdomain.cloud/IBM-ML0187EN-SkillsNetwork/labs/module%203/data/CustomerData.csv')\n",
    "df = pd.read_csv('CustomerData.csv', index_col=0)"
   ]
  },
  {
   "cell_type": "markdown",
   "metadata": {},
   "source": [
    "Let's take a peek at our dataset to ensure it was loaded properly.\n"
   ]
  },
  {
   "cell_type": "code",
   "execution_count": 4,
   "metadata": {},
   "outputs": [
    {
     "ename": "<class 'NameError'>",
     "evalue": "name 'df' is not defined",
     "output_type": "error",
     "traceback": [
      "\u001b[0;31m---------------------------------------------------------------------------\u001b[0m",
      "\u001b[0;31mNameError\u001b[0m                                 Traceback (most recent call last)",
      "Cell \u001b[0;32mIn[4], line 1\u001b[0m\n\u001b[0;32m----> 1\u001b[0m \u001b[43mdf\u001b[49m\u001b[38;5;241m.\u001b[39mhead()\n",
      "\u001b[0;31mNameError\u001b[0m: name 'df' is not defined"
     ]
    }
   ],
   "source": [
    "df.head()"
   ]
  },
  {
   "cell_type": "markdown",
   "metadata": {},
   "source": [
    "### Getting familiar with the data\n",
    "\n",
    "First, let's take a look at the data we have to gain a better general understanding of it before we attempt any clustering.\n",
    "\n",
    "Let's start by looking at the distributions of some of the features.\n"
   ]
  },
  {
   "cell_type": "markdown",
   "metadata": {},
   "source": [
    "We can start by analyzing the ratio of male to female customers that were surveyed.\n"
   ]
  },
  {
   "cell_type": "code",
   "execution_count": 4,
   "metadata": {},
   "outputs": [
    {
     "ename": "<class 'NameError'>",
     "evalue": "name 'df' is not defined",
     "output_type": "error",
     "traceback": [
      "\u001b[0;31m---------------------------------------------------------------------------\u001b[0m",
      "\u001b[0;31mNameError\u001b[0m                                 Traceback (most recent call last)",
      "Cell \u001b[0;32mIn[4], line 1\u001b[0m\n\u001b[0;32m----> 1\u001b[0m num_male \u001b[38;5;241m=\u001b[39m \u001b[43mdf\u001b[49m[df[\u001b[38;5;124m'\u001b[39m\u001b[38;5;124mGender\u001b[39m\u001b[38;5;124m'\u001b[39m] \u001b[38;5;241m==\u001b[39m \u001b[38;5;124m'\u001b[39m\u001b[38;5;124mMale\u001b[39m\u001b[38;5;124m'\u001b[39m]\u001b[38;5;241m.\u001b[39mshape[\u001b[38;5;241m0\u001b[39m]\n\u001b[1;32m      2\u001b[0m num_female \u001b[38;5;241m=\u001b[39m df[df[\u001b[38;5;124m'\u001b[39m\u001b[38;5;124mGender\u001b[39m\u001b[38;5;124m'\u001b[39m] \u001b[38;5;241m==\u001b[39m \u001b[38;5;124m'\u001b[39m\u001b[38;5;124mFemale\u001b[39m\u001b[38;5;124m'\u001b[39m]\u001b[38;5;241m.\u001b[39mshape[\u001b[38;5;241m0\u001b[39m]\n\u001b[1;32m      3\u001b[0m plt\u001b[38;5;241m.\u001b[39mpie(\n\u001b[1;32m      4\u001b[0m     [num_male, num_female],\n\u001b[1;32m      5\u001b[0m     labels\u001b[38;5;241m=\u001b[39m[\u001b[38;5;124m'\u001b[39m\u001b[38;5;124mMale\u001b[39m\u001b[38;5;124m'\u001b[39m, \u001b[38;5;124m'\u001b[39m\u001b[38;5;124mFemale\u001b[39m\u001b[38;5;124m'\u001b[39m],\n\u001b[1;32m      6\u001b[0m     startangle\u001b[38;5;241m=\u001b[39m\u001b[38;5;241m90\u001b[39m,\n\u001b[1;32m      7\u001b[0m     autopct\u001b[38;5;241m=\u001b[39m\u001b[38;5;124m'\u001b[39m\u001b[38;5;124m%\u001b[39m\u001b[38;5;124m1.f\u001b[39m\u001b[38;5;132;01m%%\u001b[39;00m\u001b[38;5;124m'\u001b[39m,\n\u001b[1;32m      8\u001b[0m     colors\u001b[38;5;241m=\u001b[39m[\u001b[38;5;124m'\u001b[39m\u001b[38;5;124mlavender\u001b[39m\u001b[38;5;124m'\u001b[39m, \u001b[38;5;124m'\u001b[39m\u001b[38;5;124mthistle\u001b[39m\u001b[38;5;124m'\u001b[39m])\n",
      "\u001b[0;31mNameError\u001b[0m: name 'df' is not defined"
     ]
    }
   ],
   "source": [
    "num_male = df[df['Gender'] == 'Male'].shape[0]\n",
    "num_female = df[df['Gender'] == 'Female'].shape[0]\n",
    "plt.pie(\n",
    "    [num_male, num_female],\n",
    "    labels=['Male', 'Female'],\n",
    "    startangle=90,\n",
    "    autopct='%1.f%%',\n",
    "    colors=['lavender', 'thistle'])\n",
    "plt.title('Gender of survey respondants')\n",
    "plt.show()"
   ]
  },
  {
   "cell_type": "markdown",
   "metadata": {},
   "source": [
    "We see that we have slightly more female respondents in our survey. Next let's plot histograms of the age and annual incomes of the customers.\n"
   ]
  },
  {
   "cell_type": "code",
   "execution_count": null,
   "metadata": {},
   "outputs": [],
   "source": [
    "plt.hist(df['Annual Income (k$)'], bins=10)\n",
    "plt.xlabel('Annual Income (k$)')\n",
    "plt.ylabel('Number of Customers')\n",
    "plt.show()"
   ]
  },
  {
   "cell_type": "markdown",
   "metadata": {},
   "source": [
    "Our distribution appears slightly skewed to the right. Not as many people are making over $100k per year.\n",
    "\n",
    "Let's take a look at people's annual income vs spending score:\n"
   ]
  },
  {
   "cell_type": "code",
   "execution_count": null,
   "metadata": {},
   "outputs": [],
   "source": [
    "xlabel = 'Annual Income (k$)'\n",
    "ylabel = 'Spending Score (1-100)'\n",
    "X = df[[xlabel, ylabel]]\n",
    "plt.scatter(X[xlabel], X[ylabel])\n",
    "plt.xlabel(xlabel)\n",
    "plt.ylabel(ylabel)\n",
    "plt.show()"
   ]
  },
  {
   "cell_type": "markdown",
   "metadata": {},
   "source": [
    "This looks promising, we can see our customers seem to fall into \\~5 categories:\n",
    "\n",
    "1.  **Low** income, **high** spending.\n",
    "2.  **High** income, **low** spending.\n",
    "3.  **Low** income, **low** spending.\n",
    "4.  **High** income, **low** spending.\n",
    "5.  **Medium** income, **medium** spending.\n",
    "\n",
    "If we manage to segment our existing customers into these 5 categories, we will obtain exactly the information John requires:\n"
   ]
  },
  {
   "cell_type": "markdown",
   "metadata": {},
   "source": [
    "### Clusting the data using K Means\n",
    "\n",
    "Let's start clusting our data!\n",
    "\n",
    "To do so, we simply load the <code>sklearn.cluster.KMeans</code> object - with our desired number of clusters <code>k = 5</code>:\n"
   ]
  },
  {
   "cell_type": "code",
   "execution_count": null,
   "metadata": {},
   "outputs": [],
   "source": [
    "km = KMeans(n_clusters=5, random_state=42)\n",
    "km.fit(X)"
   ]
  },
  {
   "cell_type": "code",
   "execution_count": null,
   "metadata": {},
   "outputs": [],
   "source": [
    "for label in np.unique(km.labels_):\n",
    "    X_ = X[label == km.labels_]\n",
    "    plt.scatter(X_['Annual Income (k$)'], X_['Spending Score (1-100)'], label=label)\n",
    "plt.xlabel(xlabel)\n",
    "plt.ylabel(ylabel)\n",
    "plt.show()"
   ]
  },
  {
   "cell_type": "markdown",
   "metadata": {},
   "source": [
    "Awesome! Our KMeans algorithm was able to correctly group our data into the 5 categories we initially noticed\n"
   ]
  },
  {
   "cell_type": "markdown",
   "metadata": {},
   "source": [
    "## Example 3: Image Segmentation\n",
    "\n",
    "Image segmentation is the process of locating objects and boundaries in an image.\n",
    "\n",
    "Various clustering can be used for this task.\n",
    "\n",
    "**How** is this done?:\n",
    "\n",
    "1.  We cluster pixels using their brightness (grayscale) or rgb values (color).\n",
    "2.  We replace each pixel with the average brightness or rgb value of pixels in their cluster.\n",
    "\n",
    "Let's look at an example using KMeans:\n"
   ]
  },
  {
   "cell_type": "markdown",
   "metadata": {},
   "source": [
    "### Loading the data\n",
    "\n",
    "Let's start by loading the data into a <code>numpy.array</code> and taking a look at the image:\n"
   ]
  },
  {
   "cell_type": "code",
   "execution_count": null,
   "metadata": {},
   "outputs": [],
   "source": [
    "await skillsnetwork.download('https://cf-courses-data.s3.us.cloud-object-storage.appdomain.cloud/IBM-ML0187EN-SkillsNetwork/labs/module%203/images/cameraman.png')\n",
    "img = plt.imread('cameraman.png')\n",
    "print(f'The image is {img.shape[0]}px by {img.shape[1]}px')\n",
    "plt.axis('off')\n",
    "plt.imshow(img)\n",
    "plt.show()"
   ]
  },
  {
   "cell_type": "markdown",
   "metadata": {},
   "source": [
    "### Segmenting the image using 2 clusters\n",
    "\n",
    "In this example we will segment our image into <code>k = 2</code> color-clusters:\n"
   ]
  },
  {
   "cell_type": "code",
   "execution_count": null,
   "metadata": {},
   "outputs": [],
   "source": [
    "k = 2\n",
    "\n",
    "X = img.reshape(-1, 1)\n",
    "km = KMeans(n_clusters=k, random_state=42)"
   ]
  },
  {
   "cell_type": "code",
   "execution_count": null,
   "metadata": {},
   "outputs": [],
   "source": [
    "km.fit(X)"
   ]
  },
  {
   "cell_type": "markdown",
   "metadata": {},
   "source": [
    "Let's see our segmented image; once we replace each pixel with the mean of the cluster it belongs to:\n"
   ]
  },
  {
   "cell_type": "code",
   "execution_count": null,
   "metadata": {},
   "outputs": [],
   "source": [
    "seg = np.zeros(X.shape)\n",
    "for i in range(k):\n",
    "    seg[km.labels_ == i] = km.cluster_centers_[i]\n",
    "seg = seg.reshape(img.shape)\n",
    "plt.axis('off')\n",
    "plt.imshow(seg)"
   ]
  },
  {
   "cell_type": "markdown",
   "metadata": {},
   "source": [
    "Awesome! Even as a human we can still easily recognize our image after segmentation with <code>k = 2</code> colors.\n",
    "\n",
    "### Converting to black and white\n",
    "\n",
    "Alternatively we may view the image in black and white:\n"
   ]
  },
  {
   "cell_type": "code",
   "execution_count": null,
   "metadata": {},
   "outputs": [],
   "source": [
    "seg = np.zeros(X.shape)\n",
    "for i in range(k):\n",
    "    seg[km.labels_ == i] = 255 if km.cluster_centers_[i] > 0.5 else 0\n",
    "seg = seg.reshape(img.shape).astype(np.uint8)\n",
    "plt.axis('off')\n",
    "plt.imshow(seg)\n",
    "plt.show()"
   ]
  },
  {
   "cell_type": "markdown",
   "metadata": {},
   "source": [
    "# Exercises\n",
    "\n",
    "In this section, we will segment another image; this time in full-color with various values for k.\n",
    "\n",
    "Please run the following cell to load the data for the exercises:\n"
   ]
  },
  {
   "cell_type": "code",
   "execution_count": null,
   "metadata": {},
   "outputs": [],
   "source": [
    "await skillsnetwork.download('https://cf-courses-data.s3.us.cloud-object-storage.appdomain.cloud/IBM-ML0187EN-SkillsNetwork/labs/module%203/images/kingfisher.jpeg')\n",
    "img = plt.imread('kingfisher.jpeg', format='jpeg')\n",
    "plt.axis('off')\n",
    "plt.imshow(img)\n",
    "plt.show()"
   ]
  },
  {
   "cell_type": "markdown",
   "metadata": {},
   "source": [
    "### Exercise 1 - Fitting KMeans With k=2\n"
   ]
  },
  {
   "cell_type": "code",
   "execution_count": null,
   "metadata": {},
   "outputs": [],
   "source": [
    "# TODO\n"
   ]
  },
  {
   "cell_type": "markdown",
   "metadata": {},
   "source": [
    "<details>\n",
    "    <summary>Click here for Solution</summary>\n",
    "\n",
    "```python\n",
    "k = 2\n",
    "\n",
    "X = img.reshape(-1, 3) # Remember, since image is RGB\n",
    "km = KMeans(n_clusters=k, random_state=42)\n",
    "km.fit(X)\n",
    "```\n",
    "\n",
    "</details>\n"
   ]
  },
  {
   "cell_type": "markdown",
   "metadata": {},
   "source": [
    "### Exercise 2 - Viewing Segmented Image\n"
   ]
  },
  {
   "cell_type": "code",
   "execution_count": null,
   "metadata": {},
   "outputs": [],
   "source": [
    "# TODO\n"
   ]
  },
  {
   "cell_type": "markdown",
   "metadata": {},
   "source": [
    "<details>\n",
    "    <summary>Click here for Solution</summary>\n",
    "\n",
    "```python\n",
    "seg = np.zeros(X.shape)\n",
    "for i in range(k):\n",
    "    seg[km.labels_ == i] = km.cluster_centers_[i]\n",
    "seg = seg.reshape(img.shape).astype(np.uint8)\n",
    "plt.imshow(seg)\n",
    "```\n",
    "\n",
    "</details>\n"
   ]
  },
  {
   "cell_type": "markdown",
   "metadata": {},
   "source": [
    "### Exercise 3 - Fitting KMeans With k=4 and Viewing Segmented Image\n"
   ]
  },
  {
   "cell_type": "code",
   "execution_count": null,
   "metadata": {},
   "outputs": [],
   "source": [
    "# TODO\n"
   ]
  },
  {
   "cell_type": "markdown",
   "metadata": {},
   "source": [
    "<details>\n",
    "    <summary>Click here for Solution</summary>\n",
    "\n",
    "```python\n",
    "k = 4\n",
    "\n",
    "X = img.reshape(-1, 3) # Remember, since image is rgb\n",
    "km = KMeans(n_clusters=k, random_state=42)\n",
    "km.fit(X)\n",
    "\n",
    "seg = np.zeros(X.shape)\n",
    "for i in range(k):\n",
    "    seg[km.labels_ == i] = km.cluster_centers_[i]\n",
    "seg = seg.reshape(img.shape).astype(np.uint8)\n",
    "plt.imshow(seg)\n",
    "```\n",
    "\n",
    "</details>\n"
   ]
  },
  {
   "cell_type": "markdown",
   "metadata": {},
   "source": [
    "Congratulations! You've completed the exercises. Later, you will learn about another clustering algorithm, GMM which performs even better on image segmentation.\n"
   ]
  },
  {
   "cell_type": "markdown",
   "metadata": {},
   "source": [
    "### Thank you for completing this lab!\n",
    "\n",
    "## Author\n",
    "\n",
    "[David Pasternak](https://www.linkedin.com/in/david-pasternak-6b84a2208/?utm_medium=Exinfluencer&utm_source=Exinfluencer&utm_content=000026UJ&utm_term=10006555&utm_id=NA-SkillsNetwork-Channel-SkillsNetworkCoursesIBMML0187ENSkillsNetwork31430127-2022-01-01)\n",
    "\n",
    "[Sam Prokopchuk](https://www.linkedin.com/in/sam-prokopchuk-1908b21a0/?utm_medium=Exinfluencer&utm_source=Exinfluencer&utm_content=000026UJ&utm_term=10006555&utm_id=NA-SkillsNetwork-Channel-SkillsNetworkCoursesIBMML0187ENSkillsNetwork31430127-2022-01-01)\n",
    "\n",
    "### Other Contributors\n",
    "\n",
    "## Change Log\n",
    "\n",
    "| Date (YYYY-MM-DD) | Version | Changed By      | Change Description    |\n",
    "| ----------------- | ------- | --------------- | --------------------- |\n",
    "| 2022-03-28        | 0.1     | David Pasternak | Created Lab           |\n",
    "| 2022-05-10        | 0.2     | Sam Prokopchuk  | Complete Draft of Lab |\n",
    "|2022-07-18.        |0.2      |Svitlana K      | Review and edit|\n",
    "\n",
    "## <h3 align=\"center\"> © IBM Corporation 2022. All rights reserved. <h3/>\n"
   ]
  },
  {
   "cell_type": "code",
   "execution_count": null,
   "metadata": {},
   "outputs": [],
   "source": []
  }
 ],
 "metadata": {
  "kernelspec": {
   "display_name": "Python 3 (ipykernel)",
   "language": "python",
   "name": "python3"
  },
  "language_info": {
   "codemirror_mode": {
    "name": "ipython",
    "version": 3
   },
   "file_extension": ".py",
   "mimetype": "text/x-python",
   "name": "python",
   "nbconvert_exporter": "python",
   "pygments_lexer": "ipython3",
   "version": "3.10.2"
  }
 },
 "nbformat": 4,
 "nbformat_minor": 4
}
